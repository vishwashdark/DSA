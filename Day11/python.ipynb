{
 "cells": [
  {
   "cell_type": "code",
   "execution_count": 1,
   "metadata": {},
   "outputs": [
    {
     "name": "stdout",
     "output_type": "stream",
     "text": [
      "10\n"
     ]
    }
   ],
   "source": [
    "#sum of n natural number\n",
    "a=int(input(\"enter the number\"))\n",
    "sum=0\n",
    "for i in range(1,1+a):\n",
    "    sum=sum+i\n",
    "print(sum)"
   ]
  },
  {
   "cell_type": "code",
   "execution_count": 2,
   "metadata": {},
   "outputs": [
    {
     "name": "stdout",
     "output_type": "stream",
     "text": [
      "6\n"
     ]
    }
   ],
   "source": [
    "#factorial\n",
    "a=int(input(\"enter your number\"))\n",
    "d=1\n",
    "for i in range(1,a+1):\n",
    "    d=d*i\n",
    "print(d)\n"
   ]
  },
  {
   "cell_type": "code",
   "execution_count": 3,
   "metadata": {},
   "outputs": [
    {
     "name": "stdout",
     "output_type": "stream",
     "text": [
      "1\n",
      "2\n",
      "3\n",
      "5\n",
      "8\n"
     ]
    }
   ],
   "source": [
    "#fibonacci series\n",
    "a=int(input(\"enter your number\"))\n",
    "n1=0\n",
    "n2=1\n",
    "sum=0\n",
    "for i in range(0,a):\n",
    "    sum=n1+n2\n",
    "    n1=n2\n",
    "    n2=sum\n",
    "    print(sum)"
   ]
  },
  {
   "cell_type": "code",
   "execution_count": 4,
   "metadata": {},
   "outputs": [
    {
     "name": "stdout",
     "output_type": "stream",
     "text": [
      "0\n",
      "1\n",
      "1\n",
      "2\n",
      "3\n"
     ]
    }
   ],
   "source": [
    "a=int(input(\"enter your number\"))\n",
    "def fibonnaci(n):\n",
    "    if n<=1:\n",
    "        return n \n",
    "    else:\n",
    "        return(fibonnaci(n-1)+fibonnaci(n-2))\n",
    "for i in range(0,a):\n",
    "    print(fibonnaci(i))\n"
   ]
  },
  {
   "cell_type": "code",
   "execution_count": 13,
   "metadata": {},
   "outputs": [
    {
     "name": "stdout",
     "output_type": "stream",
     "text": [
      "27\n"
     ]
    }
   ],
   "source": [
    "a=int(input(\"enter your number\"))\n",
    "b=int(input(\"enter your number\"))\n",
    "sum=0\n",
    "def mult(a,b):\n",
    "    if b==0:\n",
    "        return a\n",
    "    else:\n",
    "        return a*a\n",
    "for i in range(0,b):\n",
    "    sum=sum+mult(a,b)\n",
    "print(sum)"
   ]
  },
  {
   "cell_type": "code",
   "execution_count": null,
   "metadata": {},
   "outputs": [],
   "source": []
  }
 ],
 "metadata": {
  "kernelspec": {
   "display_name": "roadnetwork",
   "language": "python",
   "name": "roadnetwork"
  },
  "language_info": {
   "codemirror_mode": {
    "name": "ipython",
    "version": 3
   },
   "file_extension": ".py",
   "mimetype": "text/x-python",
   "name": "python",
   "nbconvert_exporter": "python",
   "pygments_lexer": "ipython3",
   "version": "3.11.4"
  }
 },
 "nbformat": 4,
 "nbformat_minor": 2
}
